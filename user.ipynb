{
 "cells": [
  {
   "cell_type": "code",
   "execution_count": null,
   "metadata": {},
   "outputs": [],
   "source": [
    "#class"
   ]
  },
  {
   "cell_type": "code",
   "execution_count": 1,
   "metadata": {},
   "outputs": [],
   "source": [
    "class Account:\n",
    "    pass"
   ]
  },
  {
   "cell_type": "code",
   "execution_count": 2,
   "metadata": {},
   "outputs": [],
   "source": [
    "class Account:\n",
    "    \"\"\"This represents Account\n",
    "    \"\"\"\n",
    "    balance = 0\n",
    "    number = None\n",
    "\n",
    "    def deposit(amount):\n",
    "        pass\n",
    "\n",
    "    def withdraw(amount):\n",
    "        pass"
   ]
  },
  {
   "cell_type": "code",
   "execution_count": null,
   "metadata": {},
   "outputs": [],
   "source": []
  },
  {
   "cell_type": "markdown",
   "metadata": {},
   "source": [
    "# i can create objects from classes"
   ]
  },
  {
   "cell_type": "code",
   "execution_count": 3,
   "metadata": {},
   "outputs": [
    {
     "data": {
      "text/plain": [
       "__main__.Account"
      ]
     },
     "execution_count": 3,
     "metadata": {},
     "output_type": "execute_result"
    }
   ],
   "source": [
    "my_savings_account = Account() # created a new object\n",
    "type(my_savings_account)"
   ]
  },
  {
   "cell_type": "code",
   "execution_count": 4,
   "metadata": {},
   "outputs": [],
   "source": [
    "my_savings_account.balance = 10000\n",
    "my_savings_account.number = \"123456789\""
   ]
  },
  {
   "cell_type": "code",
   "execution_count": 5,
   "metadata": {},
   "outputs": [
    {
     "data": {
      "text/plain": [
       "<__main__.Account at 0x17fdfaa7920>"
      ]
     },
     "execution_count": 5,
     "metadata": {},
     "output_type": "execute_result"
    }
   ],
   "source": [
    "my_savings_account"
   ]
  },
  {
   "cell_type": "code",
   "execution_count": 6,
   "metadata": {},
   "outputs": [],
   "source": [
    "your_savings_account = Account()\n",
    "your_savings_account.balance = 2000000\n",
    "your_savings_account.number = \"234567891\""
   ]
  },
  {
   "cell_type": "code",
   "execution_count": 7,
   "metadata": {},
   "outputs": [
    {
     "name": "stdout",
     "output_type": "stream",
     "text": [
      "10000\n",
      "2000000\n"
     ]
    }
   ],
   "source": [
    "print(my_savings_account.balance)\n",
    "print(your_savings_account.balance)"
   ]
  },
  {
   "cell_type": "markdown",
   "metadata": {},
   "source": [
    "# inheritance\n"
   ]
  },
  {
   "cell_type": "code",
   "execution_count": 8,
   "metadata": {},
   "outputs": [],
   "source": [
    "class Account:\n",
    "    \"\"\"This defines the Account\n",
    "    \"\"\"\n",
    "    # class variable\n",
    "    account_type = None\n",
    "\n",
    "    def __init__(self, number=None, balance=0):\n",
    "        \"\"\"This represents object initialization\n",
    "\n",
    "        Args:\n",
    "            number (str): account number\n",
    "            balance (float): balance\n",
    "        \"\"\"\n",
    "        # instance variables\n",
    "        self.number = number\n",
    "        self.balance = balance\n",
    "\n",
    "    def withdraw(self, amount):\n",
    "        \"\"\"Withdraw the amount\n",
    "\n",
    "        Args:\n",
    "            amount (float): amount to be withdrawn\n",
    "        \"\"\"\n",
    "        self.balance -= amount\n",
    "    \n",
    "    def deposit(self, amount):\n",
    "        \"\"\"Deposit the amount\n",
    "\n",
    "        Args:\n",
    "            amount (float): amount to be deposited\n",
    "        \"\"\"\n",
    "        self.balance += amount\n",
    "\n",
    "    def print_balance(self):\n",
    "        print(f\"balance of {self.number}  = {self.balance}\")\n"
   ]
  },
  {
   "cell_type": "code",
   "execution_count": 9,
   "metadata": {},
   "outputs": [],
   "source": [
    "# inheritance\n",
    "class SavingsAccount(Account):\n",
    "    account_type = \"Savings\"\n",
    "\n",
    "class CurrentAccount(Account):\n",
    "    account_type = \"Current\""
   ]
  },
  {
   "cell_type": "code",
   "execution_count": 10,
   "metadata": {},
   "outputs": [
    {
     "name": "stdout",
     "output_type": "stream",
     "text": [
      "balance of id1001  = 1000\n",
      "balance of id1002  = 20000\n",
      "balance of id1001  = 6000\n",
      "balance of id1002  = 15000\n"
     ]
    }
   ],
   "source": [
    "# lets create two savings accounts and deposit amounts\n",
    "a = SavingsAccount(number=\"id1001\", balance=1000)\n",
    "b = SavingsAccount(number=\"id1002\", balance=20000)\n",
    "a.print_balance()\n",
    "b.print_balance()\n",
    "a.deposit(5000)\n",
    "b.withdraw(5000)\n",
    "a.print_balance()\n",
    "b.print_balance()"
   ]
  },
  {
   "cell_type": "code",
   "execution_count": 11,
   "metadata": {},
   "outputs": [
    {
     "name": "stdout",
     "output_type": "stream",
     "text": [
      "balance of c10001  = 102000\n",
      "balance of c10002  = 1000000\n"
     ]
    }
   ],
   "source": [
    "c = CurrentAccount(number=\"c10001\", balance=100000)\n",
    "d = CurrentAccount(number=\"c10002\", balance=999999)\n",
    "d.deposit(1)\n",
    "c.deposit(2000)\n",
    "c.print_balance()\n",
    "d.print_balance()"
   ]
  },
  {
   "cell_type": "code",
   "execution_count": 12,
   "metadata": {},
   "outputs": [
    {
     "name": "stdout",
     "output_type": "stream",
     "text": [
      "Savings\n"
     ]
    }
   ],
   "source": [
    "print(SavingsAccount.account_type)"
   ]
  },
  {
   "cell_type": "code",
   "execution_count": 13,
   "metadata": {},
   "outputs": [
    {
     "data": {
      "text/plain": [
       "True"
      ]
     },
     "execution_count": 13,
     "metadata": {},
     "output_type": "execute_result"
    }
   ],
   "source": [
    "issubclass(SavingsAccount, Account)"
   ]
  },
  {
   "cell_type": "code",
   "execution_count": 14,
   "metadata": {},
   "outputs": [
    {
     "data": {
      "text/plain": [
       "False"
      ]
     },
     "execution_count": 14,
     "metadata": {},
     "output_type": "execute_result"
    }
   ],
   "source": [
    "issubclass(SavingsAccount, CurrentAccount)"
   ]
  },
  {
   "cell_type": "code",
   "execution_count": 15,
   "metadata": {},
   "outputs": [],
   "source": [
    "class Transaction:\n",
    "    \"\"\"This class represents and inter account transaction\n",
    "    \"\"\"\n",
    "    def __init__(self, from_account, to_account):\n",
    "        self.from_account = from_account\n",
    "        self.to_account = to_account\n",
    "\n",
    "    def deposit(self, amount):\n",
    "        self.from_account.withdraw(amount)\n",
    "        self.to_account.deposit(amount)"
   ]
  },
  {
   "cell_type": "code",
   "execution_count": 16,
   "metadata": {},
   "outputs": [
    {
     "name": "stdout",
     "output_type": "stream",
     "text": [
      "balance of id1001  = 9500\n",
      "balance of id1002  = 500\n"
     ]
    }
   ],
   "source": [
    "a = SavingsAccount(number=\"id1001\",balance=10000)\n",
    "b = SavingsAccount(number=\"id1002\", balance=0)\n",
    "transaction = Transaction(a, b)\n",
    "transaction.deposit(500)\n",
    "a.print_balance()\n",
    "b.print_balance()"
   ]
  },
  {
   "cell_type": "code",
   "execution_count": 17,
   "metadata": {},
   "outputs": [],
   "source": [
    "class CreditCard:\n",
    "    def __init__(self, number=None, balance=0):\n",
    "        \"\"\"This represents object initialization\n",
    "\n",
    "        Args:\n",
    "            number (str): account number\n",
    "            balance (float): balance\n",
    "        \"\"\"\n",
    "        # instance variables\n",
    "        self.number = number\n",
    "        self.balance = balance\n",
    "\n",
    "    def withdraw(self, amount):\n",
    "        \"\"\"Withdraw the amount\n",
    "\n",
    "        Args:\n",
    "            amount (float): amount to be withdrawn\n",
    "        \"\"\"\n",
    "        self.balance -= amount\n",
    "    \n",
    "    def deposit(self, amount):\n",
    "        \"\"\"Deposit the amount\n",
    "\n",
    "        Args:\n",
    "            amount (float): amount to be deposited\n",
    "        \"\"\"\n",
    "        self.balance += amount\n",
    "\n",
    "    def print_balance(self):\n",
    "        print(f\"balance of {self.number}  = {self.balance}\")\n"
   ]
  },
  {
   "cell_type": "code",
   "execution_count": 18,
   "metadata": {},
   "outputs": [
    {
     "name": "stdout",
     "output_type": "stream",
     "text": [
      "balance of 11111111  = 0\n",
      "balance of id10001  = 495000\n"
     ]
    }
   ],
   "source": [
    "c = CreditCard(\"11111111\", -5000)\n",
    "a = SavingsAccount(\"id10001\", 500000)\n",
    "t = Transaction(a,c)\n",
    "t.deposit(5000)\n",
    "c.print_balance()\n",
    "a.print_balance()"
   ]
  }
 ],
 "metadata": {
  "kernelspec": {
   "display_name": "Python 3",
   "language": "python",
   "name": "python3"
  },
  "language_info": {
   "codemirror_mode": {
    "name": "ipython",
    "version": 3
   },
   "file_extension": ".py",
   "mimetype": "text/x-python",
   "name": "python",
   "nbconvert_exporter": "python",
   "pygments_lexer": "ipython3",
   "version": "3.12.5"
  }
 },
 "nbformat": 4,
 "nbformat_minor": 2
}
